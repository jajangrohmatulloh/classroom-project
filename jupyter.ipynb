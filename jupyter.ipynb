{
 "cells": [
  {
   "cell_type": "code",
   "execution_count": 1,
   "metadata": {},
   "outputs": [],
   "source": [
    "from tkinter import *"
   ]
  },
  {
   "cell_type": "code",
   "execution_count": 2,
   "metadata": {},
   "outputs": [
    {
     "ename": "TclError",
     "evalue": "unknown option \"-padding\"",
     "output_type": "error",
     "traceback": [
      "\u001b[1;31m---------------------------------------------------------------------------\u001b[0m",
      "\u001b[1;31mTclError\u001b[0m                                  Traceback (most recent call last)",
      "Cell \u001b[1;32mIn[2], line 4\u001b[0m\n\u001b[0;32m      1\u001b[0m window \u001b[39m=\u001b[39m Tk()\n\u001b[0;32m      2\u001b[0m window\u001b[39m.\u001b[39mtitle(\u001b[39m\"\u001b[39m\u001b[39mPerson Detection\u001b[39m\u001b[39m\"\u001b[39m)\n\u001b[1;32m----> 4\u001b[0m frm \u001b[39m=\u001b[39m Frame(window, padding\u001b[39m=\u001b[39;49m\u001b[39m10\u001b[39;49m)\n\u001b[0;32m      5\u001b[0m frm\u001b[39m.\u001b[39mpack()\n\u001b[0;32m      7\u001b[0m frame1 \u001b[39m=\u001b[39m Frame(master\u001b[39m=\u001b[39mwindow, width\u001b[39m=\u001b[39m\u001b[39m100\u001b[39m, height\u001b[39m=\u001b[39m\u001b[39m100\u001b[39m, bg\u001b[39m=\u001b[39m\u001b[39m\"\u001b[39m\u001b[39mred\u001b[39m\u001b[39m\"\u001b[39m)\n",
      "File \u001b[1;32mc:\\Users\\jajan\\AppData\\Local\\Programs\\Python\\Python311\\Lib\\tkinter\\__init__.py:3190\u001b[0m, in \u001b[0;36mFrame.__init__\u001b[1;34m(self, master, cnf, **kw)\u001b[0m\n\u001b[0;32m   3188\u001b[0m     extra \u001b[39m=\u001b[39m (\u001b[39m'\u001b[39m\u001b[39m-class\u001b[39m\u001b[39m'\u001b[39m, cnf[\u001b[39m'\u001b[39m\u001b[39mclass\u001b[39m\u001b[39m'\u001b[39m])\n\u001b[0;32m   3189\u001b[0m     \u001b[39mdel\u001b[39;00m cnf[\u001b[39m'\u001b[39m\u001b[39mclass\u001b[39m\u001b[39m'\u001b[39m]\n\u001b[1;32m-> 3190\u001b[0m Widget\u001b[39m.\u001b[39;49m\u001b[39m__init__\u001b[39;49m(\u001b[39mself\u001b[39;49m, master, \u001b[39m'\u001b[39;49m\u001b[39mframe\u001b[39;49m\u001b[39m'\u001b[39;49m, cnf, {}, extra)\n",
      "File \u001b[1;32mc:\\Users\\jajan\\AppData\\Local\\Programs\\Python\\Python311\\Lib\\tkinter\\__init__.py:2628\u001b[0m, in \u001b[0;36mBaseWidget.__init__\u001b[1;34m(self, master, widgetName, cnf, kw, extra)\u001b[0m\n\u001b[0;32m   2626\u001b[0m \u001b[39mfor\u001b[39;00m k, v \u001b[39min\u001b[39;00m classes:\n\u001b[0;32m   2627\u001b[0m     \u001b[39mdel\u001b[39;00m cnf[k]\n\u001b[1;32m-> 2628\u001b[0m \u001b[39mself\u001b[39;49m\u001b[39m.\u001b[39;49mtk\u001b[39m.\u001b[39;49mcall(\n\u001b[0;32m   2629\u001b[0m     (widgetName, \u001b[39mself\u001b[39;49m\u001b[39m.\u001b[39;49m_w) \u001b[39m+\u001b[39;49m extra \u001b[39m+\u001b[39;49m \u001b[39mself\u001b[39;49m\u001b[39m.\u001b[39;49m_options(cnf))\n\u001b[0;32m   2630\u001b[0m \u001b[39mfor\u001b[39;00m k, v \u001b[39min\u001b[39;00m classes:\n\u001b[0;32m   2631\u001b[0m     k\u001b[39m.\u001b[39mconfigure(\u001b[39mself\u001b[39m, v)\n",
      "\u001b[1;31mTclError\u001b[0m: unknown option \"-padding\""
     ]
    }
   ],
   "source": [
    "\n",
    "\n",
    "window = Tk()\n",
    "window.title(\"Person Detection\")\n",
    "\n",
    "# frm = Frame(window, padding=10)\n",
    "# frm.pack()\n",
    "\n",
    "frame1 = Frame(master=window, width=100, height=100, bg=\"red\")\n",
    "frame1.pack()\n",
    "\n",
    "turn_on = Button(window, text=\"ON\")\n",
    "turn_on.pack()\n",
    "\n",
    "txt_edit = Text(window)\n",
    "txt_edit.pack()\n",
    "frm_buttons = Frame(window, relief=RAISED, bd=2)\n",
    "frm_buttons.pack()\n",
    "btn_open = Button(frm_buttons, text=\"Open\")\n",
    "btn_open.pack()\n",
    "btn_save = Button(frm_buttons, text=\"Save As...\")\n",
    "btn_save.pack()"
   ]
  }
 ],
 "metadata": {
  "kernelspec": {
   "display_name": "Python 3",
   "language": "python",
   "name": "python3"
  },
  "language_info": {
   "codemirror_mode": {
    "name": "ipython",
    "version": 3
   },
   "file_extension": ".py",
   "mimetype": "text/x-python",
   "name": "python",
   "nbconvert_exporter": "python",
   "pygments_lexer": "ipython3",
   "version": "3.11.4"
  },
  "orig_nbformat": 4
 },
 "nbformat": 4,
 "nbformat_minor": 2
}
