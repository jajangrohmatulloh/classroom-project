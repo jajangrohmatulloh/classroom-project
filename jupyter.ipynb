{
 "cells": [
  {
   "cell_type": "code",
   "execution_count": 1,
   "metadata": {},
   "outputs": [],
   "source": [
    "import cv2\n",
    "from ultralytics import YOLO"
   ]
  },
  {
   "cell_type": "code",
   "execution_count": 12,
   "metadata": {},
   "outputs": [
    {
     "name": "stdout",
     "output_type": "stream",
     "text": [
      "Jajan\n"
     ]
    }
   ],
   "source": [
    "str = 'Jajang Angkat Tangan'\n",
    "behavior = str.find('Angkat Tangan')\n",
    "print(str[:behavior - 2])"
   ]
  },
  {
   "cell_type": "code",
   "execution_count": 2,
   "metadata": {},
   "outputs": [
    {
     "name": "stdout",
     "output_type": "stream",
     "text": [
      "true\n"
     ]
    }
   ],
   "source": [
    "ternary_test = 'true' if True == True else 'False'\n",
    "print(ternary_test)"
   ]
  },
  {
   "cell_type": "code",
   "execution_count": null,
   "metadata": {},
   "outputs": [],
   "source": [
    "sql_query = \"INSERT INTO perilaku_murid_belajar (nama, perilaku, gambar, timestamp) VALUES (%s, %s, %s, %s)\"\n",
    "print(sql_query, ('tet55', 'dfhdfjghfjd', 'hfdgdfhgjf', 'djfgjfdhg'))"
   ]
  },
  {
   "cell_type": "code",
   "execution_count": 32,
   "metadata": {},
   "outputs": [
    {
     "name": "stdout",
     "output_type": "stream",
     "text": [
      "INSERT INTO perilaku_murid_belajar (nama, perilaku, gambar, timestamp) VALUES (jajang, bangun, pic, waktu)\n"
     ]
    }
   ],
   "source": [
    "sql_query = 'INSERT INTO perilaku_murid_{} (nama, perilaku, gambar, timestamp) VALUES ({}, {}, {}, {})'.format('ujian' if True ==False else 'belajar', 'jajang', 'bangun', 'pic', 'waktu')\n",
    "print(sql_query)"
   ]
  },
  {
   "cell_type": "code",
   "execution_count": 148,
   "metadata": {},
   "outputs": [
    {
     "name": "stdout",
     "output_type": "stream",
     "text": [
      "12:09:12\n",
      "23:00:00\n",
      "2023-08-19\n"
     ]
    }
   ],
   "source": [
    "from datetime import datetime\n",
    "print(datetime.now().strftime('%H:%M:%S'))\n",
    "print(datetime(2000, 8, 7, 23, 0, 0).strftime('%H:%M:%S'))\n",
    "now = datetime.now().strftime('%H:%M:%S')\n",
    "telat = datetime(2000, 8, 7, 23, 0, 0).strftime('%H:%M:%S')\n",
    "# print(datetime(2000, 8, 7, 24, 0,1).strftime('%H:%M:%S') < telat)\n",
    "print(datetime.now().date())"
   ]
  },
  {
   "cell_type": "code",
   "execution_count": 328,
   "metadata": {},
   "outputs": [
    {
     "name": "stdout",
     "output_type": "stream",
     "text": [
      "2023-08-19 16:09:26.519589\n",
      "INSERT INTO perilaku_murid_belajar (nama, perilaku, gambar, timestamp) VALUES (learn, test, test gamabr, timestamp)\n"
     ]
    }
   ],
   "source": [
    "import mysql.connector\n",
    "from datetime import timedelta\n",
    "db = mysql.connector.connect(\n",
    "    host=\"localhost\",\n",
    "    user=\"root\",\n",
    "    password=\"\",\n",
    "    database=\"murid\"\n",
    ")\n",
    "\n",
    "cursor = db.cursor()\n",
    "print(datetime.now())\n",
    "\n",
    "cursor.execute(\"UPDATE perilaku_murid_belajar SET nama=%s WHERE Perilaku=%s\" %('jng', 'ngantuk'))\n",
    "db.commit()\n",
    "\n",
    "\n",
    "results = cursor.fetchall()\n",
    "\n",
    "# for data in results:\n",
    "#     for i in data:\n",
    "#         print(i > datetime.now())\n",
    "# date = (datetime(2000, 8, 7, 23, 0, 29) - results[0]).total_seconds() > 30\n",
    "print(\"INSERT INTO perilaku_murid_belajar (nama, perilaku, gambar, timestamp) VALUES (%s, %s, %s, %s)\" %('learn' if True == True else 'exam', 'test', 'test gamabr', 'timestamp'))\n"
   ]
  }
 ],
 "metadata": {
  "kernelspec": {
   "display_name": "Python 3",
   "language": "python",
   "name": "python3"
  },
  "language_info": {
   "codemirror_mode": {
    "name": "ipython",
    "version": 3
   },
   "file_extension": ".py",
   "mimetype": "text/x-python",
   "name": "python",
   "nbconvert_exporter": "python",
   "pygments_lexer": "ipython3",
   "version": "3.11.4"
  },
  "orig_nbformat": 4
 },
 "nbformat": 4,
 "nbformat_minor": 2
}
